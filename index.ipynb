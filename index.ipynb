{
 "metadata": {
  "name": "",
  "signature": "sha256:1d598bb5008a34dae5eb886c965e8eb74ab28870ebec8ac8ced5ae9964fdaa45"
 },
 "nbformat": 3,
 "nbformat_minor": 0,
 "worksheets": [
  {
   "cells": [
    {
     "cell_type": "markdown",
     "metadata": {},
     "source": [
      "<img src=\"http://mirageforum.com/forum/attachment.php?attachmentid=159&d=1370617142\">"
     ]
    },
    {
     "cell_type": "markdown",
     "metadata": {},
     "source": [
      "# What is a TopGear?\n",
      "TopGear is the Next Generation robotics control system. TopGear provides powerful programming tools and documentation, anywhere.\n",
      "\n",
      "This page is a complete starting point for using TopGear.\n"
     ]
    },
    {
     "cell_type": "markdown",
     "metadata": {},
     "source": [
      "# Topics\n",
      "\n",
      "* First Steps (Start here!)\n",
      "    * Kit Checklist\n",
      "    * Kit Tour\n",
      "    * Getting Help\n",
      "* Programming Tutorials\n",
      "    * Introduction to Python\n",
      "    * More IPython Notebook Documentation\n",
      "    * [Notebook Basics](ipython-in-depth/examples/Notebook/Notebook Basics.ipynb) (part of [IPython: a PyCon 2014 tutorial](ipython-in-depth/Index - Basic.ipynb))\n",
      "    * [Beyond Plain Python](ipython-in-depth/examples/IPython Kernel/Beyond Plain Python.ipynb) (part of [IPython: a PyCon 2014 tutorial](ipython-in-depth/Index - Basic.ipynb))\n",
      "* Robot Simulator Tutorials\n",
      "    * [battlecruiser_demo](battlecruiser_demo.ipynb)\n",
      "    * Introduction to Robot Programming\n",
      "    * Driving from joystick\n",
      "    * Tracking the mouse\n",
      "    * Line Following\n",
      "* Real Robot Tutorials (run on your robot!)\n",
      "    * Introduction to the robot\n",
      "    * Driving from joystick\n",
      "    * Line Following\n",
      "* Advanced IPython\n",
      "    * [IPython Display System and Interactive Widgets](ipython-in-depth/Index - Interactive Widgets.ipynb)"
     ]
    },
    {
     "cell_type": "markdown",
     "metadata": {},
     "source": [
      "# Internal Topics\n",
      "* [Demos](demos.ipynb)"
     ]
    },
    {
     "cell_type": "code",
     "collapsed": false,
     "input": [],
     "language": "python",
     "metadata": {},
     "outputs": []
    }
   ],
   "metadata": {}
  }
 ]
}