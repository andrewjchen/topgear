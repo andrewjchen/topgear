{
 "metadata": {
  "name": "",
  "signature": "sha256:e0d228182653f68facb0ef2c7350b2ae1ab24e30c6a44351f4c943e7241e1d5d"
 },
 "nbformat": 3,
 "nbformat_minor": 0,
 "worksheets": [
  {
   "cells": [
    {
     "cell_type": "markdown",
     "metadata": {},
     "source": [
      "<img src=\"http://mirageforum.com/forum/attachment.php?attachmentid=159&d=1370617142\">"
     ]
    },
    {
     "cell_type": "markdown",
     "metadata": {},
     "source": [
      "# What is a TopGear?\n",
      "TopGear is the Next Generation robotics control system. TopGear provides powerful programming tools and documentation, anywhere.\n",
      "\n",
      "This page is a complete starting point for using TopGear.\n"
     ]
    },
    {
     "cell_type": "markdown",
     "metadata": {},
     "source": [
      "# Topics\n",
      "\n",
      "* Programming Tutorials (Start here!)\n",
      "    * Introduction to Python\n",
      "    * More IPython Notebook Documentation\n",
      "* Robot Simulator Tutorials\n",
      "    * [battlecruiser_demo](battlecruiser_demo.ipynb)\n",
      "    * Introduction to Robot Programming\n",
      "    * Driving from joystick\n",
      "    * Tracking the mouse\n",
      "    * Line Following\n",
      "* Real Robot Tutorials (run on your robot!)\n",
      "    * Introduction to the robot\n",
      "    * Driving from joystick\n",
      "    * Line Following\n",
      "* Advanced IPython"
     ]
    },
    {
     "cell_type": "markdown",
     "metadata": {},
     "source": [
      "# Internal Topics\n",
      "* ???"
     ]
    }
   ],
   "metadata": {}
  }
 ]
}