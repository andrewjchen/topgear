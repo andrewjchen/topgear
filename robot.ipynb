{
 "metadata": {
  "name": "",
  "signature": "sha256:3f00d78401bfd0ac790d8d99daccefd7b540e5b0b4f60c4607b088054945f471"
 },
 "nbformat": 3,
 "nbformat_minor": 0,
 "worksheets": [
  {
   "cells": [
    {
     "cell_type": "markdown",
     "metadata": {},
     "source": [
      "<img src=\"http://mirageforum.com/forum/attachment.php?attachmentid=159&d=1370617142\">"
     ]
    },
    {
     "cell_type": "markdown",
     "metadata": {},
     "source": [
      "back to [Index](index.ipynb)"
     ]
    },
    {
     "cell_type": "heading",
     "level": 1,
     "metadata": {},
     "source": [
      "Robot"
     ]
    },
    {
     "cell_type": "markdown",
     "metadata": {},
     "source": [
      "This class defines a python class for driving the zumocrawler."
     ]
    },
    {
     "cell_type": "code",
     "collapsed": false,
     "input": [
      "from python.mbedrpc import *"
     ],
     "language": "python",
     "metadata": {},
     "outputs": [],
     "prompt_number": 1
    },
    {
     "cell_type": "code",
     "collapsed": false,
     "input": [
      "class Motor:\n",
      "    def __init__(self, a1, a2):\n",
      "        self.a1=a1\n",
      "        self.a2=a2\n",
      "\n",
      "    def cmd(self, speed):\n",
      "        if speed >=0:\n",
      "            self.a1.write(speed)\n",
      "            self.a2.write(0)\n",
      "        else:\n",
      "            self.a1.write(0)\n",
      "            self.a2.write(-speed)"
     ],
     "language": "python",
     "metadata": {},
     "outputs": [],
     "prompt_number": 2
    },
    {
     "cell_type": "code",
     "collapsed": false,
     "input": [
      "class Robot:\n",
      "    def __init__(self):\n",
      "        dev='/dev/ttyACM0'\n",
      "        self.mbed=SerialRPC(dev, 115200)\n",
      "        a1=PwmOut(self.mbed, p21)\n",
      "        a2=PwmOut(self.mbed, p22)\n",
      "        b1=PwmOut(self.mbed, p23)\n",
      "        b2=PwmOut(self.mbed, p24)\n",
      "        self.m_right = Motor(a1, a2)\n",
      "        self.m_left = Motor(b1, b2)\n",
      "    def cmd(self, left, right):\n",
      "        self.m_left.cmd(-left)\n",
      "        self.m_right.cmd(right)"
     ],
     "language": "python",
     "metadata": {},
     "outputs": [],
     "prompt_number": 3
    },
    {
     "cell_type": "code",
     "collapsed": false,
     "input": [
      "#NBINCLUDE_STOP"
     ],
     "language": "python",
     "metadata": {},
     "outputs": [],
     "prompt_number": 4
    },
    {
     "cell_type": "heading",
     "level": 3,
     "metadata": {},
     "source": [
      "Example Usage"
     ]
    },
    {
     "cell_type": "markdown",
     "metadata": {},
     "source": [
      "r = Robot()"
     ]
    },
    {
     "cell_type": "code",
     "collapsed": false,
     "input": [
      "r.cmd(1,0)"
     ],
     "language": "python",
     "metadata": {},
     "outputs": [],
     "prompt_number": 6
    },
    {
     "cell_type": "code",
     "collapsed": false,
     "input": [
      "r.cmd(0,1)"
     ],
     "language": "python",
     "metadata": {},
     "outputs": [],
     "prompt_number": 7
    },
    {
     "cell_type": "code",
     "collapsed": false,
     "input": [
      "r.cmd(0,0)"
     ],
     "language": "python",
     "metadata": {},
     "outputs": [],
     "prompt_number": 8
    },
    {
     "cell_type": "code",
     "collapsed": false,
     "input": [],
     "language": "python",
     "metadata": {},
     "outputs": []
    }
   ],
   "metadata": {}
  }
 ]
}