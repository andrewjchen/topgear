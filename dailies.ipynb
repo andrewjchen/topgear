{
 "metadata": {
  "name": "",
  "signature": "sha256:0497fabcb87de826f3c4cacbe67f80b3d78bc342ccbd9813cc0082852fbb247b"
 },
 "nbformat": 3,
 "nbformat_minor": 0,
 "worksheets": [
  {
   "cells": [
    {
     "cell_type": "markdown",
     "metadata": {},
     "source": [
      "<img src=\"http://mirageforum.com/forum/attachment.php?attachmentid=159&d=1370617142\">"
     ]
    },
    {
     "cell_type": "markdown",
     "metadata": {},
     "source": [
      "back to [Index](index.ipynb)"
     ]
    },
    {
     "cell_type": "heading",
     "level": 1,
     "metadata": {},
     "source": [
      "Dailies"
     ]
    },
    {
     "cell_type": "markdown",
     "metadata": {},
     "source": [
      "catalogues what changed each day"
     ]
    },
    {
     "cell_type": "heading",
     "level": 4,
     "metadata": {},
     "source": [
      "2014-07-12"
     ]
    },
    {
     "cell_type": "markdown",
     "metadata": {},
     "source": [
      "* [widgets_spinonce](widgets_spinonce.ipynb)"
     ]
    },
    {
     "cell_type": "heading",
     "level": 4,
     "metadata": {},
     "source": [
      "2014-07-19"
     ]
    },
    {
     "cell_type": "markdown",
     "metadata": {},
     "source": [
      "* [multitask-thoughts](multitask-thoughts.ipynb)\n",
      "    * [fieldcontrol_test](fieldcontrol_test.ipynb)\n",
      "    * [threaded_coroutines](threaded_coroutines.ipynb)\n",
      "    * [simplekernel](simplekernel.ipynb)\n",
      "    * [lcm_robot_driver](lcm_robot_driver.ipynb)\n",
      "    * [netrobot](netrobot.ipynb)\n",
      "    * [gevent_jitter_test](gevent_jitter_test.ipynb)"
     ]
    },
    {
     "cell_type": "heading",
     "level": 4,
     "metadata": {},
     "source": [
      "2014-07-20"
     ]
    },
    {
     "cell_type": "markdown",
     "metadata": {},
     "source": [
      "* [topgear-thoughts](topgear-thoughts.ipynb)\n",
      "    * [multitask-thoughts](multitask-thoughts.ipynb)\n",
      "        * scrimmage results\n",
      "            * [demos](demos.ipynb)\n",
      "        * scrimmage bringup\n",
      "            * [studentcode_teleop](studentcode_teleop.ipynb)\n",
      "            * [joy_broadcast](joy_broadcast.ipynb)\n",
      "            * [lcm_robot_driver](lcm_robot_driver.ipynb)\n",
      "            * [netrobot](netrobot.ipynb)\n",
      "            * [robot](robot.ipynb)\n",
      "        * tests\n",
      "            * [joy_receive](joy_receive.ipynb)\n",
      "            * [fieldcontrol_test](fieldcontrol_test.ipynb)\n",
      "            * [gevent_fieldcontrol](gevent_fieldcontrol.ipynb)\n",
      "            * [gevent_jitter_test](gevent_jitter_test.ipynb)\n",
      "            * [gevent_longrunning_test](gevent_longrunning_test.ipynb)\n",
      "            * [cogen_test](cogen_test.ipynb)\n",
      "            * [coroutines](coroutines.ipynb)\n",
      "            * [greenlet_test](greenlet_test.ipynb)\n",
      "            * [parallel_test](parallel_test.ipynb)\n",
      "            * [coroutine_spin_test](coroutine_spin_test.ipynb)\n",
      "            * [numba_test](numba_test.ipynb)\n",
      "            * [simplekernel](simplekernel.ipynb)"
     ]
    },
    {
     "cell_type": "heading",
     "level": 4,
     "metadata": {},
     "source": [
      "2014-07-26"
     ]
    },
    {
     "cell_type": "markdown",
     "metadata": {},
     "source": [
      "* [linefollow_test](linefollow_test.ipynb)\n",
      "    * [robot](robot.ipynb)\n",
      "* [pickle_demo](pickle_demo.ipynb)"
     ]
    }
   ],
   "metadata": {}
  }
 ]
}